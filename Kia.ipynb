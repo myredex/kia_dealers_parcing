{
 "cells": [
  {
   "cell_type": "markdown",
   "id": "8325a327-efa0-41bd-ac01-1babf6ea28d8",
   "metadata": {},
   "source": [
    "# Collect dealers from Kia.com"
   ]
  },
  {
   "cell_type": "markdown",
   "id": "ec3fae8d-9861-4f66-8034-8605ee69ad82",
   "metadata": {},
   "source": [
    "With this notebook you will be able to parce information from Kia.com and other websites.\n",
    "- First go to https://www.kia.com/us/en/find-a-dealer/result?zipCode=10011\n",
    "- Right click on the page and open \"Inspect element\"\n",
    "- Go to \"Network\" tab\n",
    "- Reload the page (F5)\n",
    "- Press Fetch/XHR button and find name \"search\" once you press it you will see json response [{\"location\":{\"street1\":\"46-05 Northern Blvd ....]\n",
    "- Click Right button on \"search\" then \"copy\" then \"as cURL (bash)\" \n",
    "- Go to https://curlconverter.com/ and paste to the field\n",
    "- Choose Python and copy cookies and headers\n",
    "- Paste it below"
   ]
  },
  {
   "cell_type": "markdown",
   "id": "55fca727-8ff2-4745-aadc-4f2367692ee9",
   "metadata": {},
   "source": [
    "## First we need to get US zip codes"
   ]
  },
  {
   "cell_type": "code",
   "execution_count": null,
   "id": "e0cd09ae-4e07-4f1f-94e4-1fa1a031ae6b",
   "metadata": {},
   "outputs": [],
   "source": [
    "# !pip install uszipcode"
   ]
  },
  {
   "cell_type": "code",
   "execution_count": 10,
   "id": "3fcf7299-ac83-4660-a1df-8a283e835a60",
   "metadata": {},
   "outputs": [
    {
     "data": {
      "text/plain": [
       "5"
      ]
     },
     "execution_count": 10,
     "metadata": {},
     "output_type": "execute_result"
    }
   ],
   "source": [
    "from uszipcode import SearchEngine\n",
    "\n",
    "engine = SearchEngine()\n",
    "\n",
    "# Set returns to 20000000000 \n",
    "zipcodes = engine.by_population(lower = 50000, returns=5)\n",
    "\n",
    "zipcode_list = []\n",
    "for zipcode in zipcodes:\n",
    "    zipcode_list.append(zipcode.zipcode)\n",
    "    # print(zipcode.zipcode, zipcode.city, zipcode.major_city, zipcode.population)\n",
    "len(zipcode_list)"
   ]
  },
  {
   "cell_type": "markdown",
   "id": "052c6886-96f0-45db-916e-1dad1dc7eea0",
   "metadata": {},
   "source": [
    "## Now It's time to make request"
   ]
  },
  {
   "cell_type": "code",
   "execution_count": 11,
   "id": "d7355821-37a4-4514-accd-510971fdebbe",
   "metadata": {},
   "outputs": [],
   "source": [
    "import requests"
   ]
  },
  {
   "cell_type": "code",
   "execution_count": 12,
   "id": "6e07b881-534e-4230-acc1-1e038d294cff",
   "metadata": {},
   "outputs": [],
   "source": [
    "# Don't forget paster your cookies and headers to make your code work\n",
    "\n",
    "cookies = {\n",
    "    '_schn': '_h2rakk',\n",
    "    'AMCVS_5288FC7C5A0DB1AD0A495DAA%40AdobeOrg': '1',\n",
    "    'at_check': 'true',\n",
    "    '_gcl_au': '1.1.1115191399.1680607834',\n",
    "    'server-id': '2',\n",
    "    'AMCV_5288FC7C5A0DB1AD0A495DAA%40AdobeOrg': '179643557%7CMCIDTS%7C19452%7CMCMID%7C66567593446243994910443663988301828962%7CMCAAMLH-1681212633%7C6%7CMCAAMB-1681212633%7C6G1ynYcLPuiQxYZrsz_pkqfLG9yMXBpb2zX5dvJdYQJzPXImdj0y%7CMCOPTOUT-1680615033s%7CNONE%7CMCSYNCSOP%7C411-19459%7CvVersion%7C5.5.0',\n",
    "    'mboxEdgeCluster': '37',\n",
    "    'adobe_visits': '1',\n",
    "    '_gid': 'GA1.2.1502647912.1680607835',\n",
    "    '_scid': '75c7f989-6d40-4710-9b9c-a28bd1e6830d',\n",
    "    '_fbp': 'fb.1.1680607836597.405262138',\n",
    "    '_tt_enable_cookie': '1',\n",
    "    '_ttp': '-eY47kRr1slqeN6OtFllF7rC9aY',\n",
    "    '_hjFirstSeen': '1',\n",
    "    '_hjIncludedInSessionSample_1637272': '0',\n",
    "    '_hjSession_1637272': 'eyJpZCI6IjEzOThmNDMzLTUwMGMtNDcwMS04NWIxLTM3OGQ0MjYxMzg5ZSIsImNyZWF0ZWQiOjE2ODA2MDc4MzcwMjgsImluU2FtcGxlIjpmYWxzZX0=',\n",
    "    '_hjAbsoluteSessionInProgress': '0',\n",
    "    '_pin_unauth': 'dWlkPVlXSTJOalExTW1RdE5XWTJZeTAwTVdOa0xXRm1Namt0TVdFek9XTmlaamt6TVRsbA',\n",
    "    '_sctr': '1|1680544800000',\n",
    "    '__insp_wid': '192154059',\n",
    "    '__insp_nv': 'true',\n",
    "    '__insp_targlpu': 'aHR0cHM6Ly93d3cua2lhLmNvbS91cy9lbg%3D%3D',\n",
    "    '__insp_targlpt': 'U1VWcywgU2VkYW5zLCBTcG9ydHMgQ2FycywgSHlicmlkcywgRVZzICYgTHV4dXJ5IENhcnMgfCBLaWE%3D',\n",
    "    's_fid': '5A47E62700B0D53A-1925E3970202B33E',\n",
    "    's_vnum': '1682877600993%26vn%3D1',\n",
    "    's_invisit': 'true',\n",
    "    's_cc': 'true',\n",
    "    '__insp_norec_sess': 'true',\n",
    "    '_aeaid': '7eb7fb30-1422-4452-b20d-e20b6221efa9',\n",
    "    's_dfa': 'hkmkiatier1dev%2Chkmkiatier1prod',\n",
    "    'aelastsite': '7JVBFOlghlAorlmnXsY44CAxi1yp%2FEG78H%2Bq39Ppe74Z9mc4yUqpU6BTW%2B8H8LrF',\n",
    "    'aelreadersettings': '%7B%22c_big%22%3A0%2C%22rg%22%3A0%2C%22memph%22%3A0%2C%22contrast_setting%22%3A0%2C%22colorshift_setting%22%3A0%2C%22text_size_setting%22%3A0%2C%22space_setting%22%3A0%2C%22font_setting%22%3A0%2C%22k%22%3A0%2C%22k_disable_default%22%3A0%2C%22hlt%22%3A0%2C%22disable_animations%22%3A0%2C%22display_alt_desc%22%3A0%7D',\n",
    "    '_hjSessionUser_1637272': 'eyJpZCI6ImRiYzBjMWRjLTdkMjEtNTY1ZC1hOTFjLTEzNTkxYzBjZjlmNiIsImNyZWF0ZWQiOjE2ODA2MDc4MzcwMTAsImV4aXN0aW5nIjp0cnVlfQ==',\n",
    "    's_pp': 'find-a-dealer%3A%20result',\n",
    "    's_sq': '%5B%5BB%5D%5D',\n",
    "    '_uetsid': '1e8a34b0d2dc11eda1de093d2660ff8f',\n",
    "    '_uetvid': '1e8aed80d2dc11eda8bf55d6301eb03f',\n",
    "    's_ppvl': 'https%253A%2F%2Fwww.kia.com%2Fus%2Fen%2Ffind-a-dealer%2Fresult%253FzipCode%253D0%2C33%2C33%2C297%2C1392%2C297%2C1440%2C900%2C2%2CP',\n",
    "    '__insp_slim': '1680608667373',\n",
    "    's_ppv': 'https%253A%2F%2Fwww.kia.com%2Fus%2Fen%2Ffind-a-dealer%2Fresult%253FzipCode%253D0%2C54%2C32%2C497%2C1392%2C297%2C1440%2C900%2C2%2CP',\n",
    "    'no_aa': 'true',\n",
    "    'RT': '\"z=1&dm=kia.com&si=39bda5ef-7588-4bcf-bfd2-b214427e4cc8&ss=lg26ieei&sl=6&tt=jrd&bcn=%2F%2F0217991a.akstat.io%2F\"',\n",
    "    'utag_main': 'v_id:01874c0872d80019ae195f5bd20b0508b00190830093c$_sn:1$_ss:0$_st:1680610596593$ses_id:1680607834843%3Bexp-session$_pn:7%3Bexp-session$vapi_domain:kia.com',\n",
    "    'mbox': 'session#62d62ca80c9b4f95b0bbd03e00d56b3f#1680609695|PC#62d62ca80c9b4f95b0bbd03e00d56b3f.37_0#1743853597',\n",
    "    '_ga': 'GA1.1.1802862933.1680607835',\n",
    "    '_ga_V2C03MRXK2': 'GS1.1.1680607834.1.1.1680608797.58.0.0',\n",
    "    'zipCode': '10012',\n",
    "}\n",
    "\n",
    "headers = {\n",
    "    'authority': 'www.kia.com',\n",
    "    'accept': 'application/json, text/plain, */*',\n",
    "    'accept-language': 'en,la;q=0.9,ru;q=0.8,kk;q=0.7',\n",
    "    'content-type': 'application/json;charset=UTF-8',\n",
    "    # 'cookie': '_schn=_h2rakk; AMCVS_5288FC7C5A0DB1AD0A495DAA%40AdobeOrg=1; at_check=true; _gcl_au=1.1.1115191399.1680607834; server-id=2; AMCV_5288FC7C5A0DB1AD0A495DAA%40AdobeOrg=179643557%7CMCIDTS%7C19452%7CMCMID%7C66567593446243994910443663988301828962%7CMCAAMLH-1681212633%7C6%7CMCAAMB-1681212633%7C6G1ynYcLPuiQxYZrsz_pkqfLG9yMXBpb2zX5dvJdYQJzPXImdj0y%7CMCOPTOUT-1680615033s%7CNONE%7CMCSYNCSOP%7C411-19459%7CvVersion%7C5.5.0; mboxEdgeCluster=37; adobe_visits=1; _gid=GA1.2.1502647912.1680607835; _scid=75c7f989-6d40-4710-9b9c-a28bd1e6830d; _fbp=fb.1.1680607836597.405262138; _tt_enable_cookie=1; _ttp=-eY47kRr1slqeN6OtFllF7rC9aY; _hjFirstSeen=1; _hjIncludedInSessionSample_1637272=0; _hjSession_1637272=eyJpZCI6IjEzOThmNDMzLTUwMGMtNDcwMS04NWIxLTM3OGQ0MjYxMzg5ZSIsImNyZWF0ZWQiOjE2ODA2MDc4MzcwMjgsImluU2FtcGxlIjpmYWxzZX0=; _hjAbsoluteSessionInProgress=0; _pin_unauth=dWlkPVlXSTJOalExTW1RdE5XWTJZeTAwTVdOa0xXRm1Namt0TVdFek9XTmlaamt6TVRsbA; _sctr=1|1680544800000; __insp_wid=192154059; __insp_nv=true; __insp_targlpu=aHR0cHM6Ly93d3cua2lhLmNvbS91cy9lbg%3D%3D; __insp_targlpt=U1VWcywgU2VkYW5zLCBTcG9ydHMgQ2FycywgSHlicmlkcywgRVZzICYgTHV4dXJ5IENhcnMgfCBLaWE%3D; s_fid=5A47E62700B0D53A-1925E3970202B33E; s_vnum=1682877600993%26vn%3D1; s_invisit=true; s_cc=true; __insp_norec_sess=true; _aeaid=7eb7fb30-1422-4452-b20d-e20b6221efa9; s_dfa=hkmkiatier1dev%2Chkmkiatier1prod; aelastsite=7JVBFOlghlAorlmnXsY44CAxi1yp%2FEG78H%2Bq39Ppe74Z9mc4yUqpU6BTW%2B8H8LrF; aelreadersettings=%7B%22c_big%22%3A0%2C%22rg%22%3A0%2C%22memph%22%3A0%2C%22contrast_setting%22%3A0%2C%22colorshift_setting%22%3A0%2C%22text_size_setting%22%3A0%2C%22space_setting%22%3A0%2C%22font_setting%22%3A0%2C%22k%22%3A0%2C%22k_disable_default%22%3A0%2C%22hlt%22%3A0%2C%22disable_animations%22%3A0%2C%22display_alt_desc%22%3A0%7D; _hjSessionUser_1637272=eyJpZCI6ImRiYzBjMWRjLTdkMjEtNTY1ZC1hOTFjLTEzNTkxYzBjZjlmNiIsImNyZWF0ZWQiOjE2ODA2MDc4MzcwMTAsImV4aXN0aW5nIjp0cnVlfQ==; s_pp=find-a-dealer%3A%20result; s_sq=%5B%5BB%5D%5D; _uetsid=1e8a34b0d2dc11eda1de093d2660ff8f; _uetvid=1e8aed80d2dc11eda8bf55d6301eb03f; s_ppvl=https%253A%2F%2Fwww.kia.com%2Fus%2Fen%2Ffind-a-dealer%2Fresult%253FzipCode%253D0%2C33%2C33%2C297%2C1392%2C297%2C1440%2C900%2C2%2CP; __insp_slim=1680608667373; s_ppv=https%253A%2F%2Fwww.kia.com%2Fus%2Fen%2Ffind-a-dealer%2Fresult%253FzipCode%253D0%2C54%2C32%2C497%2C1392%2C297%2C1440%2C900%2C2%2CP; no_aa=true; RT=\"z=1&dm=kia.com&si=39bda5ef-7588-4bcf-bfd2-b214427e4cc8&ss=lg26ieei&sl=6&tt=jrd&bcn=%2F%2F0217991a.akstat.io%2F\"; utag_main=v_id:01874c0872d80019ae195f5bd20b0508b00190830093c$_sn:1$_ss:0$_st:1680610596593$ses_id:1680607834843%3Bexp-session$_pn:7%3Bexp-session$vapi_domain:kia.com; mbox=session#62d62ca80c9b4f95b0bbd03e00d56b3f#1680609695|PC#62d62ca80c9b4f95b0bbd03e00d56b3f.37_0#1743853597; _ga=GA1.1.1802862933.1680607835; _ga_V2C03MRXK2=GS1.1.1680607834.1.1.1680608797.58.0.0; zipCode=10012',\n",
    "    'custom-spinner': 'true',\n",
    "    'origin': 'https://www.kia.com',\n",
    "    'referer': 'https://www.kia.com/us/en/find-a-dealer/result?zipCode=10012',\n",
    "    'sec-ch-ua': '\"Chromium\";v=\"110\", \"Not A(Brand\";v=\"24\", \"Yandex\";v=\"23\"',\n",
    "    'sec-ch-ua-mobile': '?0',\n",
    "    'sec-ch-ua-platform': '\"Windows\"',\n",
    "    'sec-fetch-dest': 'empty',\n",
    "    'sec-fetch-mode': 'cors',\n",
    "    'sec-fetch-site': 'same-origin',\n",
    "    'user-agent': 'Mozilla/5.0 (Windows NT 10.0; WOW64) AppleWebKit/537.36 (KHTML, like Gecko) Chrome/110.0.0.0 YaBrowser/23.3.0.2247 Yowser/2.5 Safari/537.36',\n",
    "}"
   ]
  },
  {
   "cell_type": "code",
   "execution_count": 14,
   "id": "bcc1347f-2edf-4980-8b4b-de906742511e",
   "metadata": {},
   "outputs": [
    {
     "data": {
      "application/vnd.jupyter.widget-view+json": {
       "model_id": "0437204528554681bb4220f1d9a5dbdc",
       "version_major": 2,
       "version_minor": 0
      },
      "text/plain": [
       "  0%|          | 0/5 [00:00<?, ?it/s]"
      ]
     },
     "metadata": {},
     "output_type": "display_data"
    }
   ],
   "source": [
    "# Import libraries\n",
    "import json\n",
    "import time\n",
    "import pandas as pd\n",
    "# Turn off warnings\n",
    "import warnings\n",
    "warnings.simplefilter(action='ignore', category=FutureWarning)\n",
    "# Progress bar\n",
    "from tqdm.notebook import tqdm\n",
    "\n",
    "# Create blank dataframe\n",
    "df = pd.DataFrame(columns=['company_name', 'phone', 'phone2', 'adress', 'city', \n",
    "                           'zip_code', 'state', 'website', 'email','coord'])\n",
    "\n",
    "for zip in tqdm(zipcode_list):\n",
    "\n",
    "    json_data = {\n",
    "        'type': 'zip',\n",
    "        'zipCode': zip,\n",
    "        'dealerCertifications': [],\n",
    "        'dealerServices': [],\n",
    "    }\n",
    "    \n",
    "    # Wait 1 second and make request\n",
    "    time.sleep(1)\n",
    "    response = requests.post('https://www.kia.com/us/services/en/dealers/search', \n",
    "                             cookies=cookies, \n",
    "                             headers=headers, \n",
    "                             json=json_data)\n",
    "    \n",
    "    # Get result and parce it as json\n",
    "    result = json.loads(response.text)\n",
    "    \n",
    "    for company in result:\n",
    "\n",
    "        company_name = company['name']\n",
    "        company_phone = company['phones'][0]['number']\n",
    "        company_website = company['url']\n",
    "        company_adress = company['location']['street1']\n",
    "        company_city = company['location']['city']\n",
    "        company_state = company['location']['state']\n",
    "        zip_code = company['location']['zipCode']\n",
    "        company_loc = company['location']['latitude'] + \", \" + company['location']['longitude']\n",
    "        \n",
    "        # Append dataframe with information\n",
    "        df = df.append({\"company_name\":company_name, \n",
    "                        \"phone\":company_phone, \n",
    "                        #\"phone2\":phone2, \n",
    "                        \"adress\":company_adress, \n",
    "                        \"city\":company_city, \n",
    "                        \"zip_code\":zip_code, \n",
    "                        \"state\":company_state, \n",
    "                        \"website\":company_website, \n",
    "                        \"coord\":company_loc}, ignore_index=True)"
   ]
  },
  {
   "cell_type": "code",
   "execution_count": 15,
   "id": "4cfe2b20-630d-47a2-8c04-2f71d2212be9",
   "metadata": {},
   "outputs": [],
   "source": [
    "# Drop duplicates and save results\n",
    "df = df.drop_duplicates()\n",
    "df.to_csv('kia_dealers_1.csv', index=False)"
   ]
  },
  {
   "cell_type": "code",
   "execution_count": null,
   "id": "ccd0bcab-8b08-4aa9-8164-2794a01b91a1",
   "metadata": {},
   "outputs": [],
   "source": []
  }
 ],
 "metadata": {
  "kernelspec": {
   "display_name": "Python 3 (ipykernel)",
   "language": "python",
   "name": "python3"
  },
  "language_info": {
   "codemirror_mode": {
    "name": "ipython",
    "version": 3
   },
   "file_extension": ".py",
   "mimetype": "text/x-python",
   "name": "python",
   "nbconvert_exporter": "python",
   "pygments_lexer": "ipython3",
   "version": "3.10.9"
  }
 },
 "nbformat": 4,
 "nbformat_minor": 5
}
