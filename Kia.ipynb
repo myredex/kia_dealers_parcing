{
 "cells": [
  {
   "cell_type": "markdown",
   "id": "8325a327-efa0-41bd-ac01-1babf6ea28d8",
   "metadata": {},
   "source": [
    "# Collect dealers from Kia.com"
   ]
  },
  {
   "cell_type": "markdown",
   "id": "ec3fae8d-9861-4f66-8034-8605ee69ad82",
   "metadata": {},
   "source": [
    "With this notebook you will be able to parce information from Kia.com and other websites.\n",
    "- First go to https://www.kia.com/us/en/find-a-dealer/result?zipCode=10011\n",
    "- Right click on the page and open \"Inspect element\"\n",
    "- Go to \"Network\" tab\n",
    "- Reload the page (F5)\n",
    "- Press Fetch/XHR button and find name \"search\" once you press it you will see json response [{\"location\":{\"street1\":\"46-05 Northern Blvd ....]\n",
    "- Click Right button on \"search\" then \"copy\" then \"as cURL (bash)\" \n",
    "- Go to https://curlconverter.com/ and paste to the field\n",
    "- Choose Python and copy cookies and headers\n",
    "- Paste it below"
   ]
  },
  {
   "cell_type": "markdown",
   "id": "55fca727-8ff2-4745-aadc-4f2367692ee9",
   "metadata": {},
   "source": [
    "## First we need to get US zip codes"
   ]
  },
  {
   "cell_type": "code",
   "execution_count": null,
   "id": "e0cd09ae-4e07-4f1f-94e4-1fa1a031ae6b",
   "metadata": {},
   "outputs": [],
   "source": [
    "# !pip install uszipcode"
   ]
  },
  {
   "cell_type": "code",
   "execution_count": 10,
   "id": "3fcf7299-ac83-4660-a1df-8a283e835a60",
   "metadata": {},
   "outputs": [
    {
     "data": {
      "text/plain": [
       "5"
      ]
     },
     "execution_count": 10,
     "metadata": {},
     "output_type": "execute_result"
    }
   ],
   "source": [
    "from uszipcode import SearchEngine\n",
    "\n",
    "engine = SearchEngine()\n",
    "\n",
    "# Set returns to 20000000000 \n",
    "zipcodes = engine.by_population(lower = 50000, returns=5)\n",
    "\n",
    "zipcode_list = []\n",
    "for zipcode in zipcodes:\n",
    "    zipcode_list.append(zipcode.zipcode)\n",
    "    # print(zipcode.zipcode, zipcode.city, zipcode.major_city, zipcode.population)\n",
    "len(zipcode_list)"
   ]
  },
  {
   "cell_type": "markdown",
   "id": "052c6886-96f0-45db-916e-1dad1dc7eea0",
   "metadata": {},
   "source": [
    "## Now It's time to make request"
   ]
  },
  {
   "cell_type": "code",
   "execution_count": 11,
   "id": "d7355821-37a4-4514-accd-510971fdebbe",
   "metadata": {},
   "outputs": [],
   "source": [
    "import requests"
   ]
  },
  {
   "cell_type": "code",
   "execution_count": 16,
   "id": "6e07b881-534e-4230-acc1-1e038d294cff",
   "metadata": {},
   "outputs": [],
   "source": [
    "# Don't forget paster your cookies and headers to make your code work\n",
    "\n",
    "cookies = {\n",
    "    '_schn': '_h2rakk',\n",
    "}\n",
    "\n",
    "headers = {\n",
    "    'authority': 'www.kia.com',\n",
    "    'accept': 'application/json, text/plain, */*',\n",
    "}"
   ]
  },
  {
   "cell_type": "code",
   "execution_count": 14,
   "id": "bcc1347f-2edf-4980-8b4b-de906742511e",
   "metadata": {},
   "outputs": [
    {
     "data": {
      "application/vnd.jupyter.widget-view+json": {
       "model_id": "0437204528554681bb4220f1d9a5dbdc",
       "version_major": 2,
       "version_minor": 0
      },
      "text/plain": [
       "  0%|          | 0/5 [00:00<?, ?it/s]"
      ]
     },
     "metadata": {},
     "output_type": "display_data"
    }
   ],
   "source": [
    "# Import libraries\n",
    "import json\n",
    "import time\n",
    "import pandas as pd\n",
    "# Turn off warnings\n",
    "import warnings\n",
    "warnings.simplefilter(action='ignore', category=FutureWarning)\n",
    "# Progress bar\n",
    "from tqdm.notebook import tqdm\n",
    "\n",
    "# Create blank dataframe\n",
    "df = pd.DataFrame(columns=['company_name', 'phone', 'phone2', 'adress', 'city', \n",
    "                           'zip_code', 'state', 'website', 'email','coord'])\n",
    "\n",
    "for zip in tqdm(zipcode_list):\n",
    "\n",
    "    json_data = {\n",
    "        'type': 'zip',\n",
    "        'zipCode': zip,\n",
    "        'dealerCertifications': [],\n",
    "        'dealerServices': [],\n",
    "    }\n",
    "    \n",
    "    # Wait 1 second and make request\n",
    "    time.sleep(1)\n",
    "    response = requests.post('https://www.kia.com/us/services/en/dealers/search', \n",
    "                             cookies=cookies, \n",
    "                             headers=headers, \n",
    "                             json=json_data)\n",
    "    \n",
    "    # Get result and parce it as json\n",
    "    result = json.loads(response.text)\n",
    "    \n",
    "    for company in result:\n",
    "\n",
    "        company_name = company['name']\n",
    "        company_phone = company['phones'][0]['number']\n",
    "        company_website = company['url']\n",
    "        company_adress = company['location']['street1']\n",
    "        company_city = company['location']['city']\n",
    "        company_state = company['location']['state']\n",
    "        zip_code = company['location']['zipCode']\n",
    "        company_loc = company['location']['latitude'] + \", \" + company['location']['longitude']\n",
    "        \n",
    "        # Append dataframe with information\n",
    "        df = df.append({\"company_name\":company_name, \n",
    "                        \"phone\":company_phone, \n",
    "                        #\"phone2\":phone2, \n",
    "                        \"adress\":company_adress, \n",
    "                        \"city\":company_city, \n",
    "                        \"zip_code\":zip_code, \n",
    "                        \"state\":company_state, \n",
    "                        \"website\":company_website, \n",
    "                        \"coord\":company_loc}, ignore_index=True)"
   ]
  },
  {
   "cell_type": "code",
   "execution_count": 15,
   "id": "4cfe2b20-630d-47a2-8c04-2f71d2212be9",
   "metadata": {},
   "outputs": [],
   "source": [
    "# Drop duplicates and save results\n",
    "df = df.drop_duplicates()\n",
    "df.to_csv('kia_dealers_1.csv', index=False)"
   ]
  },
  {
   "cell_type": "code",
   "execution_count": null,
   "id": "ccd0bcab-8b08-4aa9-8164-2794a01b91a1",
   "metadata": {},
   "outputs": [],
   "source": []
  }
 ],
 "metadata": {
  "kernelspec": {
   "display_name": "Python 3 (ipykernel)",
   "language": "python",
   "name": "python3"
  },
  "language_info": {
   "codemirror_mode": {
    "name": "ipython",
    "version": 3
   },
   "file_extension": ".py",
   "mimetype": "text/x-python",
   "name": "python",
   "nbconvert_exporter": "python",
   "pygments_lexer": "ipython3",
   "version": "3.10.9"
  }
 },
 "nbformat": 4,
 "nbformat_minor": 5
}
